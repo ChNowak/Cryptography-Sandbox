{
 "cells": [
  {
   "cell_type": "code",
   "execution_count": 1,
   "id": "6a92c07c",
   "metadata": {},
   "outputs": [],
   "source": [
    "import numpy as np\n",
    "import random"
   ]
  },
  {
   "cell_type": "code",
   "execution_count": 7,
   "id": "077cb3c3",
   "metadata": {},
   "outputs": [
    {
     "data": {
      "text/plain": [
       "'0b11011100010111111000110011011010'"
      ]
     },
     "execution_count": 7,
     "metadata": {},
     "output_type": "execute_result"
    }
   ],
   "source": [
    "data = random.randbytes(4)\n",
    "int_value = int.from_bytes(data, byteorder='big')\n",
    "bin(int_value)"
   ]
  },
  {
   "cell_type": "code",
   "execution_count": 24,
   "id": "8fdaa1db",
   "metadata": {},
   "outputs": [],
   "source": [
    "target = '00000000000000000000000000000000'"
   ]
  },
  {
   "cell_type": "code",
   "execution_count": 37,
   "id": "58c48e13",
   "metadata": {},
   "outputs": [],
   "source": [
    "def construct_guesses(target, iters):\n",
    "    g_list = []\n",
    "    for interations in range(iters):\n",
    "        guess1 = ''\n",
    "        guess2 = ''\n",
    "        for i in target:\n",
    "            sg1 = random.getrandbits(1)\n",
    "            if i == '0':\n",
    "                sg2 = (sg1-1) * -1\n",
    "            if i == '1':\n",
    "                sg2 = sg1\n",
    "            guess1+=str(sg1)\n",
    "            guess2+=str(sg2)\n",
    "        if (guess1, guess2) not in g_list:\n",
    "            g_list.append((guess1, guess2))\n",
    "    return g_list\n"
   ]
  },
  {
   "cell_type": "code",
   "execution_count": 44,
   "id": "a89804b1",
   "metadata": {},
   "outputs": [
    {
     "data": {
      "text/plain": [
       "99999"
      ]
     },
     "execution_count": 44,
     "metadata": {},
     "output_type": "execute_result"
    }
   ],
   "source": [
    "len(construct_guesses(target, 100000))"
   ]
  },
  {
   "cell_type": "code",
   "execution_count": 17,
   "id": "827a70ba",
   "metadata": {},
   "outputs": [
    {
     "ename": "KeyboardInterrupt",
     "evalue": "",
     "output_type": "error",
     "traceback": [
      "\u001b[0;31m---------------------------------------------------------------------------\u001b[0m",
      "\u001b[0;31mKeyboardInterrupt\u001b[0m                         Traceback (most recent call last)",
      "Cell \u001b[0;32mIn[17], line 6\u001b[0m\n\u001b[1;32m      4\u001b[0m c \u001b[38;5;241m=\u001b[39m \u001b[38;5;241m0\u001b[39m\n\u001b[1;32m      5\u001b[0m \u001b[38;5;28;01mwhile\u001b[39;00m guess \u001b[38;5;241m!=\u001b[39m target:\n\u001b[0;32m----> 6\u001b[0m     sub_guess1 \u001b[38;5;241m=\u001b[39m \u001b[38;5;28;43mint\u001b[39;49m\u001b[38;5;241;43m.\u001b[39;49m\u001b[43mfrom_bytes\u001b[49m\u001b[43m(\u001b[49m\u001b[43mrandom\u001b[49m\u001b[38;5;241;43m.\u001b[39;49m\u001b[43mrandbytes\u001b[49m\u001b[43m(\u001b[49m\u001b[38;5;241;43m4\u001b[39;49m\u001b[43m)\u001b[49m\u001b[43m,\u001b[49m\u001b[43m \u001b[49m\u001b[43mbyteorder\u001b[49m\u001b[38;5;241;43m=\u001b[39;49m\u001b[38;5;124;43m'\u001b[39;49m\u001b[38;5;124;43mbig\u001b[39;49m\u001b[38;5;124;43m'\u001b[39;49m\u001b[43m)\u001b[49m\n\u001b[1;32m      7\u001b[0m     sub_guess2 \u001b[38;5;241m=\u001b[39m \u001b[38;5;28mint\u001b[39m\u001b[38;5;241m.\u001b[39mfrom_bytes(random\u001b[38;5;241m.\u001b[39mrandbytes(\u001b[38;5;241m4\u001b[39m), byteorder\u001b[38;5;241m=\u001b[39m\u001b[38;5;124m'\u001b[39m\u001b[38;5;124mbig\u001b[39m\u001b[38;5;124m'\u001b[39m)\n\u001b[1;32m      8\u001b[0m     guess \u001b[38;5;241m=\u001b[39m sub_guess1\u001b[38;5;241m^\u001b[39msub_guess2\n",
      "\u001b[0;31mKeyboardInterrupt\u001b[0m: "
     ]
    }
   ],
   "source": [
    "sub_guess1 = int.from_bytes(random.randbytes(4), byteorder='big')\n",
    "sub_guess2 = int.from_bytes(random.randbytes(4), byteorder='big')\n",
    "guess = sub_guess1^sub_guess2\n",
    "c = 0\n",
    "while guess != target:\n",
    "    sub_guess1 = int.from_bytes(random.randbytes(4), byteorder='big')\n",
    "    sub_guess2 = int.from_bytes(random.randbytes(4), byteorder='big')\n",
    "    guess = sub_guess1^sub_guess2\n",
    "    c+=1\n",
    "print(c)"
   ]
  },
  {
   "cell_type": "code",
   "execution_count": null,
   "id": "9f8ba7f2",
   "metadata": {},
   "outputs": [],
   "source": []
  }
 ],
 "metadata": {
  "kernelspec": {
   "display_name": "Python 3",
   "language": "python",
   "name": "python3"
  },
  "language_info": {
   "codemirror_mode": {
    "name": "ipython",
    "version": 3
   },
   "file_extension": ".py",
   "mimetype": "text/x-python",
   "name": "python",
   "nbconvert_exporter": "python",
   "pygments_lexer": "ipython3",
   "version": "3.9.6"
  }
 },
 "nbformat": 4,
 "nbformat_minor": 5
}
